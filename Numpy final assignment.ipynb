{
 "cells": [
  {
   "cell_type": "code",
   "execution_count": 1,
   "id": "6edb4ef9",
   "metadata": {},
   "outputs": [],
   "source": [
    "import numpy as np"
   ]
  },
  {
   "cell_type": "code",
   "execution_count": 23,
   "id": "0145fe92",
   "metadata": {},
   "outputs": [],
   "source": [
    "tips=np.genfromtxt(\"C:\\\\Users\\\\DELL\\\\Downloads\\\\tipsf.csv\",delimiter=\",\",skip_header=1)"
   ]
  },
  {
   "cell_type": "code",
   "execution_count": 24,
   "id": "3e12ce81",
   "metadata": {},
   "outputs": [
    {
     "data": {
      "text/plain": [
       "array([[  0.  ,  16.99,   1.01, ...,   1.  ,   0.  ,   2.  ],\n",
       "       [  1.  ,  10.34,   1.66, ...,   1.  ,   0.  ,   3.  ],\n",
       "       [  2.  ,  21.01,   3.5 , ...,   1.  ,   0.  ,   3.  ],\n",
       "       ...,\n",
       "       [241.  ,  22.67,   2.  , ...,   0.  ,   0.  ,   2.  ],\n",
       "       [242.  ,  17.82,   1.75, ...,   0.  ,   0.  ,   2.  ],\n",
       "       [243.  ,  18.78,   3.  , ...,   2.  ,   0.  ,   2.  ]])"
      ]
     },
     "execution_count": 24,
     "metadata": {},
     "output_type": "execute_result"
    }
   ],
   "source": [
    "tips"
   ]
  },
  {
   "cell_type": "code",
   "execution_count": 1,
   "id": "33927099",
   "metadata": {},
   "outputs": [],
   "source": [
    "# 1.What is the total bill value"
   ]
  },
  {
   "cell_type": "code",
   "execution_count": 37,
   "id": "a05f6479",
   "metadata": {},
   "outputs": [
    {
     "name": "stdout",
     "output_type": "stream",
     "text": [
      "4827.77\n"
     ]
    }
   ],
   "source": [
    "total_bill=np.sum(tips[:,1])\n",
    "print(total_bill)"
   ]
  },
  {
   "cell_type": "code",
   "execution_count": 2,
   "id": "e58df9f7",
   "metadata": {},
   "outputs": [],
   "source": [
    "# 2.what is the total tip value"
   ]
  },
  {
   "cell_type": "code",
   "execution_count": 40,
   "id": "47171263",
   "metadata": {},
   "outputs": [
    {
     "name": "stdout",
     "output_type": "stream",
     "text": [
      "731.5799999999999\n"
     ]
    }
   ],
   "source": [
    "total_tip=np.sum(tips[:,2])\n",
    "print(total_tip)"
   ]
  },
  {
   "cell_type": "code",
   "execution_count": 3,
   "id": "4ec49b50",
   "metadata": {},
   "outputs": [],
   "source": [
    "# 3 count how many sun sat thu fri are there"
   ]
  },
  {
   "cell_type": "code",
   "execution_count": 52,
   "id": "ad43860f",
   "metadata": {},
   "outputs": [
    {
     "name": "stdout",
     "output_type": "stream",
     "text": [
      "sunday count 76\n",
      "saturday count 87\n",
      "thursday count 62\n",
      "Friday count 19\n"
     ]
    }
   ],
   "source": [
    "un=np.unique(tips[:,5],return_counts=True)\n",
    "count=un[1]\n",
    "print(\"sunday count\",count[1])\n",
    "print(\"saturday count\",count[0])\n",
    "print(\"thursday count\",count[2])\n",
    "print(\"Friday count\",count[3])"
   ]
  },
  {
   "cell_type": "code",
   "execution_count": 4,
   "id": "3140375a",
   "metadata": {},
   "outputs": [],
   "source": [
    "# 4 How many smokers are there"
   ]
  },
  {
   "cell_type": "code",
   "execution_count": 105,
   "id": "25ecd0f1",
   "metadata": {},
   "outputs": [
    {
     "name": "stdout",
     "output_type": "stream",
     "text": [
      "Smokers 93\n"
     ]
    }
   ],
   "source": [
    "smokers=tips[:,4][tips[:,4]==1]\n",
    "print(\"Smokers\",len(smokers))"
   ]
  },
  {
   "cell_type": "code",
   "execution_count": 5,
   "id": "41b4f1bd",
   "metadata": {},
   "outputs": [],
   "source": [
    "# 5 what is the average tip given by female and male"
   ]
  },
  {
   "cell_type": "code",
   "execution_count": 72,
   "id": "9bc29d12",
   "metadata": {},
   "outputs": [
    {
     "name": "stdout",
     "output_type": "stream",
     "text": [
      "Average Tip given by female: 3.0896178343949052\n",
      "Average Tip given by male 2.833448275862069\n"
     ]
    }
   ],
   "source": [
    "f=tips[:,2][tips[:,3]==1]\n",
    "m=tips[:,2][tips[:,3]==0]\n",
    "tipf=0\n",
    "tipm=0\n",
    "for i in f:\n",
    "    tipf=tipf+i\n",
    "for j in m:\n",
    "    tipm=tipm+j\n",
    "print(\"Average Tip given by female:\",tipf/len(f))\n",
    "print(\"Average Tip given by male\",tipm/len(m))"
   ]
  },
  {
   "cell_type": "code",
   "execution_count": 6,
   "id": "ac37d27e",
   "metadata": {},
   "outputs": [],
   "source": [
    "# 6 how much amount is spent by female and male"
   ]
  },
  {
   "cell_type": "code",
   "execution_count": 74,
   "id": "20bd7775",
   "metadata": {},
   "outputs": [
    {
     "name": "stdout",
     "output_type": "stream",
     "text": [
      "Amount spent by female 3256.8200000000024\n",
      "Amount spent by male 1570.9499999999998\n"
     ]
    }
   ],
   "source": [
    "f=tips[:,1][tips[:,3]==1]\n",
    "m=tips[:,1][tips[:,3]==0]\n",
    "billf=0\n",
    "billm=0\n",
    "for i in f:\n",
    "    billf=billf+i\n",
    "for j in m:\n",
    "    billm=billm+j\n",
    "print(\"Amount spent by female\",billf)\n",
    "print(\"Amount spent by male\",billm)"
   ]
  },
  {
   "cell_type": "code",
   "execution_count": 7,
   "id": "502181d8",
   "metadata": {},
   "outputs": [],
   "source": [
    "# 7 what is the min and max tip given"
   ]
  },
  {
   "cell_type": "code",
   "execution_count": 76,
   "id": "27e1af3b",
   "metadata": {},
   "outputs": [
    {
     "name": "stdout",
     "output_type": "stream",
     "text": [
      "Minimum tip given 1.0\n",
      "Maximum tip given 10.0\n"
     ]
    }
   ],
   "source": [
    "min_tip=min(tips[:,2])\n",
    "max_tip=max(tips[:,2])\n",
    "print(\"Minimum tip given\",min_tip)\n",
    "print(\"Maximum tip given\",max_tip)"
   ]
  },
  {
   "cell_type": "code",
   "execution_count": 8,
   "id": "beffd848",
   "metadata": {},
   "outputs": [],
   "source": [
    "# 8 how many females and males are going for dinner and lunch\n"
   ]
  },
  {
   "cell_type": "code",
   "execution_count": 103,
   "id": "f48ed57c",
   "metadata": {},
   "outputs": [
    {
     "name": "stdout",
     "output_type": "stream",
     "text": [
      "Lunch 68\n",
      "Dinner 176\n"
     ]
    }
   ],
   "source": [
    "lunch=tips[:,3][tips[:,6]==1]\n",
    "dinner=tips[:,3][tips[:,6]==0]\n",
    "print(\"Lunch\",len(lunch))\n",
    "print(\"Dinner\",len(dinner))"
   ]
  },
  {
   "cell_type": "code",
   "execution_count": 9,
   "id": "962f2cc6",
   "metadata": {},
   "outputs": [],
   "source": [
    "# 9 find out the average size"
   ]
  },
  {
   "cell_type": "code",
   "execution_count": 83,
   "id": "1de22769",
   "metadata": {},
   "outputs": [
    {
     "name": "stdout",
     "output_type": "stream",
     "text": [
      "Average size 2.569672131147541\n"
     ]
    }
   ],
   "source": [
    "size=0\n",
    "for i in tips[:,-1]:\n",
    "    size=size+i\n",
    "avg_size=size/len(tips[:,-1])\n",
    "print(\"Average size\",avg_size)"
   ]
  },
  {
   "cell_type": "code",
   "execution_count": 10,
   "id": "b0299206",
   "metadata": {},
   "outputs": [],
   "source": [
    "# 10 How many female smokers are there and male smokers are there"
   ]
  },
  {
   "cell_type": "code",
   "execution_count": 102,
   "id": "13593d90",
   "metadata": {},
   "outputs": [
    {
     "name": "stdout",
     "output_type": "stream",
     "text": [
      "Female Smokers 60\n",
      "Male Smokers 33\n"
     ]
    }
   ],
   "source": [
    "f=tips[:,4][(tips[:,4]==1) & (tips[:,3]==1)]\n",
    "m=tips[:,4][(tips[:,4]==1) & (tips[:,3]==0)]\n",
    "print(\"Female Smokers\",len(f))\n",
    "print(\"Male Smokers\",len(m))"
   ]
  },
  {
   "cell_type": "code",
   "execution_count": 111,
   "id": "b54cb2c5",
   "metadata": {},
   "outputs": [
    {
     "data": {
      "text/plain": [
       "array([[ 1.575     ,  1.225     ,  0.375     , ...,  6.3219385 ,\n",
       "         9.63883   , 10.        ],\n",
       "       [ 1.2375    ,  1.        ,  0.375     , ...,  3.798833  ,\n",
       "         7.654365  , 19.        ],\n",
       "       [ 1.45      ,  1.1625    ,  0.4125    , ...,  7.01650125,\n",
       "         7.257472  , 11.        ],\n",
       "       ...,\n",
       "       [ 1.125     ,  0.9125    ,  0.2875    , ...,  1.984465  ,\n",
       "         3.118445  ,  7.        ],\n",
       "       [ 1.625     ,  1.275     ,  0.4125    , ...,  7.86698625,\n",
       "        10.489315  , 11.        ],\n",
       "       [ 1.5875    ,  1.25      ,  0.3875    , ...,  7.38504475,\n",
       "         8.788345  , 11.        ]])"
      ]
     },
     "execution_count": 111,
     "metadata": {},
     "output_type": "execute_result"
    }
   ],
   "source": [
    "train=np.genfromtxt(\"C:\\\\Users\\\\DELL\\\\Downloads\\\\train_extended.csv\",delimiter=\",\",skip_header=1)\n",
    "train"
   ]
  },
  {
   "cell_type": "code",
   "execution_count": 11,
   "id": "83a4ebee",
   "metadata": {},
   "outputs": [],
   "source": [
    "# 1 what is max and min length"
   ]
  },
  {
   "cell_type": "code",
   "execution_count": 112,
   "id": "7ad737f5",
   "metadata": {},
   "outputs": [
    {
     "name": "stdout",
     "output_type": "stream",
     "text": [
      "Maximum 7.58349125\n",
      "Minimum 0.0\n"
     ]
    }
   ],
   "source": [
    "maximum=max(train[:,0])\n",
    "minimum=min(train[:,0])\n",
    "print(\"Maximum\",maximum)\n",
    "print(\"Minimum\",minimum)"
   ]
  },
  {
   "cell_type": "code",
   "execution_count": 12,
   "id": "de424a0f",
   "metadata": {},
   "outputs": [],
   "source": [
    "# 2 find the difference between min and max length"
   ]
  },
  {
   "cell_type": "code",
   "execution_count": 115,
   "id": "6a0c3c4e",
   "metadata": {},
   "outputs": [
    {
     "name": "stdout",
     "output_type": "stream",
     "text": [
      "7.58349125\n"
     ]
    }
   ],
   "source": [
    "diff=maximum-minimum\n",
    "print(diff)"
   ]
  },
  {
   "cell_type": "code",
   "execution_count": 13,
   "id": "c186bbd1",
   "metadata": {},
   "outputs": [],
   "source": [
    "# 3  find columnwise average"
   ]
  },
  {
   "cell_type": "code",
   "execution_count": 119,
   "id": "724011d9",
   "metadata": {},
   "outputs": [
    {
     "data": {
      "text/plain": [
       "array([ 1.31244808,  1.02032036,  0.34602787, 23.12343631,  9.98937025,\n",
       "        4.99318096,  6.63422915,  9.950615  ])"
      ]
     },
     "execution_count": 119,
     "metadata": {},
     "output_type": "execute_result"
    }
   ],
   "source": [
    "def average(x):\n",
    "    sum=0\n",
    "    for i in x:\n",
    "        sum=sum+i\n",
    "    avg=sum/len(x)\n",
    "    return avg\n",
    "np.apply_along_axis(average,0,train)"
   ]
  },
  {
   "cell_type": "code",
   "execution_count": 14,
   "id": "360c8e23",
   "metadata": {},
   "outputs": [],
   "source": [
    "# 4 Find out all the age whose height is >0.4"
   ]
  },
  {
   "cell_type": "code",
   "execution_count": 122,
   "id": "0c87f3e3",
   "metadata": {},
   "outputs": [
    {
     "name": "stdout",
     "output_type": "stream",
     "text": [
      "[11. 14. 13. ... 11. 11. 11.]\n"
     ]
    }
   ],
   "source": [
    "age=train[:,-1][train[:,2]>0.4]\n",
    "print(age)"
   ]
  },
  {
   "cell_type": "code",
   "execution_count": 15,
   "id": "666e1122",
   "metadata": {},
   "outputs": [],
   "source": [
    "# 5 Find out average height and weight of the persons whose age is 10"
   ]
  },
  {
   "cell_type": "code",
   "execution_count": 124,
   "id": "fab8fe42",
   "metadata": {},
   "outputs": [
    {
     "name": "stdout",
     "output_type": "stream",
     "text": [
      "Average height of the persons whose age is 10 0.3833672856540043\n",
      "Average weight of the persons whose age is 10 0.3875000000001401\n"
     ]
    }
   ],
   "source": [
    "height=train[:,2][train[:,-1]==10]\n",
    "weight=train[:,3][train[:,-1]==10]\n",
    "h=0\n",
    "w=0\n",
    "for i in height:\n",
    "    h=h+i\n",
    "for j in weight:\n",
    "    w=w+i\n",
    "avg_height=h/len(height)\n",
    "avg_weight=w/len(weight)\n",
    "print(\"Average height of the persons whose age is 10\",avg_height)\n",
    "print(\"Average weight of the persons whose age is 10\",avg_weight)"
   ]
  },
  {
   "cell_type": "code",
   "execution_count": 16,
   "id": "ee78037f",
   "metadata": {},
   "outputs": [],
   "source": [
    "# 6 what is the total shell weight"
   ]
  },
  {
   "cell_type": "code",
   "execution_count": 126,
   "id": "6f9db55e",
   "metadata": {},
   "outputs": [
    {
     "name": "stdout",
     "output_type": "stream",
     "text": [
      "Total Shell weight 1326845.8295212665\n"
     ]
    }
   ],
   "source": [
    "total_shellw=0\n",
    "for i in train[:,-2]:\n",
    "    total_shellw=total_shellw+i\n",
    "print(\"Total Shell weight\",total_shellw)"
   ]
  },
  {
   "cell_type": "code",
   "execution_count": 17,
   "id": "9ffca049",
   "metadata": {},
   "outputs": [],
   "source": [
    "# 7 How many persons belongs to each and every unique age"
   ]
  },
  {
   "cell_type": "code",
   "execution_count": 133,
   "id": "ca304db0",
   "metadata": {},
   "outputs": [
    {
     "name": "stdout",
     "output_type": "stream",
     "text": [
      "persons unique age [ 1.  2.  3.  4.  5.  6.  7.  8.  9. 10. 11. 12. 13. 14. 15. 16. 17. 18.\n",
      " 19. 20. 21. 22. 23. 24. 25. 26. 27. 29.]\n",
      "persons belong to each and every unique age [   46    42   625  2787  5475 12450 18276 26818 32906 30803 23457 12717\n",
      " 10037  6352  4831  3191  2705  1953  1591  1206   721   296   352   110\n",
      "    51    46    99    57]\n"
     ]
    }
   ],
   "source": [
    "unique_age=np.unique(train[:,-1],return_counts=True)\n",
    "count=unique_age[1]\n",
    "print(\"persons unique age\",unique_age[0])\n",
    "print(\"persons belong to each and every unique age\",count)"
   ]
  },
  {
   "cell_type": "code",
   "execution_count": 18,
   "id": "7aee8688",
   "metadata": {},
   "outputs": [],
   "source": [
    "# 8 what is the difference between shucked weight and viscua weight"
   ]
  },
  {
   "cell_type": "code",
   "execution_count": 135,
   "id": "ad30c7cf",
   "metadata": {},
   "outputs": [
    {
     "name": "stdout",
     "output_type": "stream",
     "text": [
      "Difference between shucked weight and viscua weight 999237.8582597616\n"
     ]
    }
   ],
   "source": [
    "shu_weight=0\n",
    "vis_weight=0\n",
    "for i in train[:,4]:\n",
    "    shu_weight=shu_weight+i\n",
    "for j in train[:,5]:\n",
    "    vis_weight=vis_weight+j\n",
    "diff=shu_weight-vis_weight\n",
    "print(\"Difference between shucked weight and viscua weight\",diff)"
   ]
  },
  {
   "cell_type": "code",
   "execution_count": 19,
   "id": "5b8072b6",
   "metadata": {},
   "outputs": [],
   "source": [
    "# 9 what is the average height of the persons whose age between is 14 & 19"
   ]
  },
  {
   "cell_type": "code",
   "execution_count": 137,
   "id": "50b3846f",
   "metadata": {},
   "outputs": [
    {
     "name": "stdout",
     "output_type": "stream",
     "text": [
      "Average height of the persons whose age between is 14 & 19 0.4190701892744539\n"
     ]
    }
   ],
   "source": [
    "height=train[:,2][(train[:,-1]>14) & (train[:,-1]<19)]\n",
    "h=0\n",
    "for i in height:\n",
    "    h=h+i\n",
    "avg_height=h/len(height)\n",
    "print(\"Average height of the persons whose age between is 14 & 19\",avg_height)"
   ]
  },
  {
   "cell_type": "code",
   "execution_count": 20,
   "id": "a0c53120",
   "metadata": {},
   "outputs": [],
   "source": [
    "# 10 what is the average weight if we include shucked weight,viscera weight and shell weight"
   ]
  },
  {
   "cell_type": "code",
   "execution_count": 139,
   "id": "4c9f837b",
   "metadata": {},
   "outputs": [
    {
     "name": "stdout",
     "output_type": "stream",
     "text": [
      "Average weight after including shucked weight,viscera weight and shell weight 44.7402166653875\n"
     ]
    }
   ],
   "source": [
    "total_weight=train[:,3]+train[:,4]+train[:,5]+train[:,6]\n",
    "tw=0\n",
    "for i in total_weight:\n",
    "    tw=tw+i\n",
    "avg_weight=tw/len(total_weight)\n",
    "print(\"Average weight after including shucked weight,viscera weight and shell weight\",avg_weight)"
   ]
  },
  {
   "cell_type": "code",
   "execution_count": null,
   "id": "7fed1ad2",
   "metadata": {},
   "outputs": [],
   "source": []
  }
 ],
 "metadata": {
  "kernelspec": {
   "display_name": "Python 3 (ipykernel)",
   "language": "python",
   "name": "python3"
  },
  "language_info": {
   "codemirror_mode": {
    "name": "ipython",
    "version": 3
   },
   "file_extension": ".py",
   "mimetype": "text/x-python",
   "name": "python",
   "nbconvert_exporter": "python",
   "pygments_lexer": "ipython3",
   "version": "3.11.3"
  }
 },
 "nbformat": 4,
 "nbformat_minor": 5
}

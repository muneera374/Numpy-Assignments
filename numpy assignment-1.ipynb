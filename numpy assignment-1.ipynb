{
 "cells": [
  {
   "cell_type": "code",
   "execution_count": null,
   "id": "78abda80",
   "metadata": {},
   "outputs": [],
   "source": [
    "import numpy as np\n",
    "# 1 Write a program to create a 5 dimensional array with all zeros and ones\n"
   ]
  },
  {
   "cell_type": "code",
   "execution_count": 23,
   "id": "fc6f1437",
   "metadata": {},
   "outputs": [
    {
     "name": "stdout",
     "output_type": "stream",
     "text": [
      "[[[[[0. 0. 0. 0. 0. 0. 0.]]]]]\n",
      "[[[[[1. 1. 1.]]]]]\n"
     ]
    }
   ],
   "source": [
    "arr1=np.zeros((1,1,1,1,7))\n",
    "arr2=np.ones((1,1,1,1,3))\n",
    "print(arr1)\n",
    "print(arr2)"
   ]
  },
  {
   "cell_type": "code",
   "execution_count": 24,
   "id": "cdf7efe6",
   "metadata": {},
   "outputs": [],
   "source": [
    "# 2 Write a program to create an array of 10 zeros,10 ones, and 10 fives in row 1 2 and 3 which create a new array of shape (3,10)"
   ]
  },
  {
   "cell_type": "code",
   "execution_count": 39,
   "id": "dcfd4ded",
   "metadata": {},
   "outputs": [
    {
     "name": "stdout",
     "output_type": "stream",
     "text": [
      "[[[0. 0. 0. 0. 0. 0. 0. 0. 0. 0.]]\n",
      "\n",
      " [[1. 1. 1. 1. 1. 1. 1. 1. 1. 1.]]\n",
      "\n",
      " [[5. 5. 5. 5. 5. 5. 5. 5. 5. 5.]]]\n"
     ]
    }
   ],
   "source": [
    "arr1=np.array([[np.zeros(10,)],[np.ones(10,)],[np.full((10,),5)]])\n",
    "print(arr1)"
   ]
  },
  {
   "cell_type": "code",
   "execution_count": 40,
   "id": "af241084",
   "metadata": {},
   "outputs": [],
   "source": [
    "# 3 Write a program to create a 3x4 matrix filled with values from 10 to 21.\n"
   ]
  },
  {
   "cell_type": "code",
   "execution_count": 42,
   "id": "10055751",
   "metadata": {},
   "outputs": [
    {
     "name": "stdout",
     "output_type": "stream",
     "text": [
      "[[10 11 12 13]\n",
      " [14 15 16 17]\n",
      " [18 19 20 21]]\n"
     ]
    }
   ],
   "source": [
    "arr1=np.arange(10,22).reshape(3,4)\n",
    "print(arr1)"
   ]
  },
  {
   "cell_type": "code",
   "execution_count": 43,
   "id": "588d50ca",
   "metadata": {},
   "outputs": [],
   "source": [
    "# 4 Write a  program to create a 10x10 zero matrix with elements on the main diagonal equal to 0,1,2,3,4,5,6,7,8,9,"
   ]
  },
  {
   "cell_type": "code",
   "execution_count": 45,
   "id": "12cff32c",
   "metadata": {},
   "outputs": [
    {
     "name": "stdout",
     "output_type": "stream",
     "text": [
      "[[0 0 0 0 0 0 0 0 0 0]\n",
      " [0 1 0 0 0 0 0 0 0 0]\n",
      " [0 0 2 0 0 0 0 0 0 0]\n",
      " [0 0 0 3 0 0 0 0 0 0]\n",
      " [0 0 0 0 4 0 0 0 0 0]\n",
      " [0 0 0 0 0 5 0 0 0 0]\n",
      " [0 0 0 0 0 0 6 0 0 0]\n",
      " [0 0 0 0 0 0 0 7 0 0]\n",
      " [0 0 0 0 0 0 0 0 8 0]\n",
      " [0 0 0 0 0 0 0 0 0 9]]\n"
     ]
    }
   ],
   "source": [
    "arr1=np.diag(range(10))\n",
    "print(arr1)"
   ]
  },
  {
   "cell_type": "code",
   "execution_count": 46,
   "id": "25a85576",
   "metadata": {},
   "outputs": [],
   "source": [
    "# 5 Write a program to create a 4x4 array. Create an array from below array by swapping first and last, second and third columns."
   ]
  },
  {
   "cell_type": "code",
   "execution_count": 49,
   "id": "d9edd931",
   "metadata": {},
   "outputs": [
    {
     "name": "stdout",
     "output_type": "stream",
     "text": [
      "[[ 1  2  3  4]\n",
      " [ 5  6  7  8]\n",
      " [ 9 10 11 12]\n",
      " [13 14 15 16]]\n"
     ]
    },
    {
     "data": {
      "text/plain": [
       "array([[ 4,  3,  2,  1],\n",
       "       [ 8,  7,  6,  5],\n",
       "       [12, 11, 10,  9],\n",
       "       [16, 15, 14, 13]])"
      ]
     },
     "execution_count": 49,
     "metadata": {},
     "output_type": "execute_result"
    }
   ],
   "source": [
    "arr1=np.arange(1,17).reshape(4,4)\n",
    "print(arr1)\n",
    "arr1[:,::-1]"
   ]
  },
  {
   "cell_type": "code",
   "execution_count": 50,
   "id": "8881763f",
   "metadata": {},
   "outputs": [],
   "source": [
    "#6 Write a program to reverse an array (the first element becomes the last).\n",
    "#Given array:\n",
    "#[12 13 14 15 16 17 18 19 20 21 22 23 24 25 26 27 ]"
   ]
  },
  {
   "cell_type": "code",
   "execution_count": 56,
   "id": "9d55debd",
   "metadata": {},
   "outputs": [
    {
     "data": {
      "text/plain": [
       "array([27, 26, 25, 24, 23, 22, 21, 20, 19, 18, 17, 16, 15, 14, 13, 12])"
      ]
     },
     "execution_count": 56,
     "metadata": {},
     "output_type": "execute_result"
    }
   ],
   "source": [
    "arr1=np.arange(12,28)\n",
    "arr1[::-1]"
   ]
  },
  {
   "cell_type": "code",
   "execution_count": 57,
   "id": "08b7b378",
   "metadata": {},
   "outputs": [],
   "source": [
    "# 7 Write a program to access all the elements greater than 30 and less than 80 and multiples of 5 from an array of shape 10,10 .Elements range from 1 to 100"
   ]
  },
  {
   "cell_type": "code",
   "execution_count": 60,
   "id": "237326ff",
   "metadata": {},
   "outputs": [
    {
     "data": {
      "text/plain": [
       "array([35, 40, 45, 50, 55, 60, 65, 70, 75])"
      ]
     },
     "execution_count": 60,
     "metadata": {},
     "output_type": "execute_result"
    }
   ],
   "source": [
    "arr1=np.arange(1,101).reshape(10,10)\n",
    "arr1[(arr1>30) & (arr1<80) & (arr1%5==0)]"
   ]
  },
  {
   "cell_type": "code",
   "execution_count": 61,
   "id": "cded020e",
   "metadata": {},
   "outputs": [],
   "source": [
    "# 8 Write a program to create a 2D array with 1 on the border and 0 inside.\n"
   ]
  },
  {
   "cell_type": "code",
   "execution_count": 70,
   "id": "976bc9a1",
   "metadata": {},
   "outputs": [
    {
     "data": {
      "text/plain": [
       "array([[1., 1., 1., 1., 1.],\n",
       "       [1., 0., 0., 0., 1.],\n",
       "       [1., 0., 0., 0., 1.],\n",
       "       [1., 0., 0., 0., 1.],\n",
       "       [1., 1., 1., 1., 1.]])"
      ]
     },
     "execution_count": 70,
     "metadata": {},
     "output_type": "execute_result"
    }
   ],
   "source": [
    "arr1=np.ones((5,5))\n",
    "arr1[1:-1,1:-1]=0\n",
    "arr1"
   ]
  },
  {
   "cell_type": "code",
   "execution_count": 71,
   "id": "bb5d94c8",
   "metadata": {},
   "outputs": [],
   "source": [
    "# 9 Write a program to create a checkerboard pattern .Don't use default array function\n",
    "#Checkerboard pattern:                                                   \n",
    "#[[0 1 0 1 0 1 0 1]                                                      \n",
    "# [1 0 1 0 1 0 1 0]                                                      \n",
    "# [0 1 0 1 0 1 0 1]                                                      \n",
    "# [1 0 1 0 1 0 1 0]                                                      \n",
    "# [0 1 0 1 0 1 0 1]                                                      \n",
    "# [1 0 1 0 1 0 1 0]    "
   ]
  },
  {
   "cell_type": "code",
   "execution_count": 77,
   "id": "bf965778",
   "metadata": {},
   "outputs": [
    {
     "data": {
      "text/plain": [
       "array([[0., 1., 0., 1., 0., 1., 0., 1.],\n",
       "       [1., 0., 1., 0., 1., 0., 1., 0.],\n",
       "       [0., 1., 0., 1., 0., 1., 0., 1.],\n",
       "       [1., 0., 1., 0., 1., 0., 1., 0.],\n",
       "       [0., 1., 0., 1., 0., 1., 0., 1.],\n",
       "       [1., 0., 1., 0., 1., 0., 1., 0.],\n",
       "       [0., 1., 0., 1., 0., 1., 0., 1.],\n",
       "       [1., 0., 1., 0., 1., 0., 1., 0.]])"
      ]
     },
     "execution_count": 77,
     "metadata": {},
     "output_type": "execute_result"
    }
   ],
   "source": [
    "arr1=np.zeros((8,8))\n",
    "arr1[::2,1::2]=1\n",
    "arr1[1::2,::2]=1\n",
    "arr1"
   ]
  },
  {
   "cell_type": "code",
   "execution_count": null,
   "id": "6b2bbd72",
   "metadata": {},
   "outputs": [],
   "source": [
    "# 10 Write a program to find common values between two arrays.\n",
    "#Expected Output:\n",
    "#array1: [10 20 40 60]\n",
    "#array2: [10, 30, 40,50]"
   ]
  },
  {
   "cell_type": "code",
   "execution_count": 82,
   "id": "8e347d71",
   "metadata": {},
   "outputs": [
    {
     "name": "stdout",
     "output_type": "stream",
     "text": [
      "common values between two arrays: [10, 30, 40]\n"
     ]
    }
   ],
   "source": [
    "arr1=np.array([10,20,30,40])\n",
    "arr2=np.array([10,30,40,50])\n",
    "l=[]\n",
    "for i in arr1:\n",
    "    for j in arr2:\n",
    "        if i==j:\n",
    "            if i in l:\n",
    "                continue\n",
    "            else:\n",
    "                l.append(i)\n",
    "print(\"common values between two arrays:\",l)"
   ]
  },
  {
   "cell_type": "code",
   "execution_count": 83,
   "id": "b2640754",
   "metadata": {},
   "outputs": [],
   "source": [
    "# 11 Write a program to create an array 2d array and then reshape into 1d array"
   ]
  },
  {
   "cell_type": "code",
   "execution_count": 87,
   "id": "0f14383b",
   "metadata": {},
   "outputs": [
    {
     "name": "stdout",
     "output_type": "stream",
     "text": [
      "[[1. 0. 0. 0.]\n",
      " [0. 1. 0. 0.]\n",
      " [0. 0. 1. 0.]\n",
      " [0. 0. 0. 1.]]\n"
     ]
    },
    {
     "data": {
      "text/plain": [
       "array([1., 0., 0., 0., 0., 1., 0., 0., 0., 0., 1., 0., 0., 0., 0., 1.])"
      ]
     },
     "execution_count": 87,
     "metadata": {},
     "output_type": "execute_result"
    }
   ],
   "source": [
    "arr1=np.eye(4)\n",
    "print(arr1)\n",
    "arr2=arr1.reshape(16,)\n",
    "arr2"
   ]
  },
  {
   "cell_type": "code",
   "execution_count": 89,
   "id": "a07abd34",
   "metadata": {},
   "outputs": [],
   "source": [
    "# 12 Write a user defined function for creating a 1 or 2d array from scratch without using array functions"
   ]
  },
  {
   "cell_type": "code",
   "execution_count": null,
   "id": "1467ae68",
   "metadata": {},
   "outputs": [],
   "source": [
    "dim=input(\"Enter your array dimension 1d or 2d:\")\n",
    "s=0\n",
    "c=0\n",
    "f=0\n",
    "if dim.lower()==\"1d\":\n",
    "    l=[]\n",
    "    shape=int(input(\"Enter number of elements:\"))\n",
    "    for i in range(shape):\n",
    "        elem_type=input(\"Enter datatype of element int float complex str:\")\n",
    "        if elem_type.lower()==\"int\":\n",
    "            elem=int(input(\"Enter a number:\"))\n",
    "            l.append(elem)\n",
    "        elif elem_type.lower()==\"float\":\n",
    "            elem=float(input(\"Enter a float number:\"))\n",
    "            l.append(elem)\n",
    "            f=f+1\n",
    "        elif elem_type.lower()==\"complex\":\n",
    "            elem=complex(input(\"Enter a complex number:\"))\n",
    "            l.append(elem)\n",
    "            c=c+1\n",
    "        elif elem_type.lower()==\"str\":\n",
    "            elem=input(\"Enter a string:\")\n",
    "            l.append(elem)\n",
    "            s=s+1\n",
    "        else:\n",
    "            print(\"Please check the data type of element you have given:\")\n",
    "    if s>=1:\n",
    "        for i in l:\n",
    "            l[l.index(i)]=str(i)\n",
    "    elif c>=1:\n",
    "        for i in l:\n",
    "            l[l.index(i)]=complex(i)\n",
    "    elif f>=1:\n",
    "        for i in l:\n",
    "            l[l.index(i)]=float(i)\n",
    "    else:\n",
    "        pass\n",
    "elif dim.lower()==\"2d\":\n",
    "    row=int(input(\"Enter number of rows:\"))\n",
    "    col=int(input(\"Enter number of columns\"))\n",
    "    l=[]\n",
    "    for i in range(row):\n",
    "        l1=[]\n",
    "        for j in range(col):\n",
    "            elem_type=input(\"Enter datatype of element int float complex str:\")\n",
    "            if elem_type.lower()==\"int\":\n",
    "                elem=int(input(\"Enter a number:\"))\n",
    "                l1.append(elem)\n",
    "            elif elem_type.lower()==\"float\":\n",
    "                elem=float(input(\"Enter a float number:\"))\n",
    "                l1.append(elem)\n",
    "                f=f+1\n",
    "            elif elem_type.lower()==\"complex\":\n",
    "                elem=complex(input(\"Enter a complex number:\"))\n",
    "                l1.append(elem)\n",
    "                c=c+1\n",
    "            elif elem_type.lower()==\"str\":\n",
    "                elem=input(\"Enter a string:\")\n",
    "                l1.append(elem)\n",
    "                s=s+1\n",
    "            else:\n",
    "                print(\"Please check the data type of element you have given:\")\n",
    "        l.append(l1)\n",
    "    if s>=1:\n",
    "        for i in range(row):\n",
    "            for j in range(col):\n",
    "                l[i][j]=str(l[i][j])\n",
    "    elif c>=1:\n",
    "        for i in range(row):\n",
    "            for j in range(col):\n",
    "                l[i][j]=complex(l[i][j])\n",
    "    elif f>=1:\n",
    "        for i in range(row):\n",
    "            for j in range(col):\n",
    "                l[i][j]=float(l[i][j])\n",
    "    else:\n",
    "        pass\n",
    "else:\n",
    "    print(\"Give 1d or 2d only\")\n",
    "print(l)"
   ]
  },
  {
   "cell_type": "code",
   "execution_count": null,
   "id": "bd1cfe64",
   "metadata": {},
   "outputs": [],
   "source": []
  }
 ],
 "metadata": {
  "kernelspec": {
   "display_name": "Python 3 (ipykernel)",
   "language": "python",
   "name": "python3"
  },
  "language_info": {
   "codemirror_mode": {
    "name": "ipython",
    "version": 3
   },
   "file_extension": ".py",
   "mimetype": "text/x-python",
   "name": "python",
   "nbconvert_exporter": "python",
   "pygments_lexer": "ipython3",
   "version": "3.11.3"
  }
 },
 "nbformat": 4,
 "nbformat_minor": 5
}
